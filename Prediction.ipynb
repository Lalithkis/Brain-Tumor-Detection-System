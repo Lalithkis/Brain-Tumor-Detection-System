{
 "cells": [
  {
   "cell_type": "code",
   "execution_count": 1,
   "id": "adffb0c9",
   "metadata": {},
   "outputs": [],
   "source": [
    "import matplotlib.pyplot as plt\n",
    "import numpy as np\n",
    "import pandas as pd\n",
    "import seaborn as sns\n",
    "import cv2\n",
    "import tensorflow as tf\n",
    "from tensorflow.keras.preprocessing.image import ImageDataGenerator\n",
    "from tqdm import tqdm\n",
    "import os\n",
    "from sklearn.utils import shuffle\n",
    "from sklearn.model_selection import train_test_split\n",
    "from tensorflow.keras.applications import EfficientNetB0\n",
    "from tensorflow.keras.callbacks import EarlyStopping, ReduceLROnPlateau, TensorBoard, ModelCheckpoint\n",
    "from sklearn.metrics import classification_report,confusion_matrix\n",
    "import ipywidgets as widgets\n",
    "import io\n",
    "from PIL import Image\n",
    "from IPython.display import display,clear_output\n",
    "from warnings import filterwarnings"
   ]
  },
  {
   "cell_type": "code",
   "execution_count": 3,
   "id": "ebb6cc68",
   "metadata": {},
   "outputs": [
    {
     "name": "stderr",
     "output_type": "stream",
     "text": [
      "WARNING:absl:Compiled the loaded model, but the compiled metrics have yet to be built. `model.compile_metrics` will be empty until you train or evaluate the model.\n"
     ]
    }
   ],
   "source": [
    "# define the path to the model\n",
    "path_to_model = r'backend\\model\\trained\\v1\\effnet.h5'\n",
    "# load the model\n",
    "model = tf.keras.models.load_model(path_to_model)"
   ]
  },
  {
   "cell_type": "code",
   "execution_count": null,
   "id": "d31b9c88",
   "metadata": {},
   "outputs": [],
   "source": []
  },
  {
   "cell_type": "code",
   "execution_count": 4,
   "id": "c4a84551",
   "metadata": {},
   "outputs": [],
   "source": [
    "def img_pred(upload):\n",
    "    for name, file_info in uploader.value.items():\n",
    "        img = Image.open(io.BytesIO(file_info['content']))\n",
    "    opencvImage = cv2.cvtColor(np.array(img), cv2.COLOR_RGB2BGR)\n",
    "    img = cv2.resize(opencvImage,(150,150))\n",
    "    img = img.reshape(1,150,150,3)\n",
    "    p = model.predict(img)\n",
    "    p = np.argmax(p,axis=1)[0]\n",
    "\n",
    "    if p==0:\n",
    "        p='Glioma Tumor'\n",
    "    elif p==1:\n",
    "        print('The model predicts that there is no tumor')\n",
    "    elif p==2:\n",
    "        p='Meningioma Tumor'\n",
    "    else:\n",
    "        p='Pituitary Tumor'\n",
    "\n",
    "    if p!=1:\n",
    "        print(f'The Model predicts that it is a {p}')"
   ]
  },
  {
   "cell_type": "code",
   "execution_count": 10,
   "id": "4b1b05c4",
   "metadata": {},
   "outputs": [
    {
     "data": {
      "application/vnd.jupyter.widget-view+json": {
       "model_id": "970a8210fd56428ca167f94cab577865",
       "version_major": 2,
       "version_minor": 0
      },
      "text/plain": [
       "FileUpload(value=(), description='Upload')"
      ]
     },
     "metadata": {},
     "output_type": "display_data"
    }
   ],
   "source": [
    "uploader = widgets.FileUpload()\n",
    "display(uploader)"
   ]
  },
  {
   "cell_type": "code",
   "execution_count": 11,
   "id": "1c368e04",
   "metadata": {},
   "outputs": [
    {
     "data": {
      "application/vnd.jupyter.widget-view+json": {
       "model_id": "3889de3e2d004c0b987200724f1a2d7a",
       "version_major": 2,
       "version_minor": 0
      },
      "text/plain": [
       "VBox(children=(Button(description='Predict', style=ButtonStyle()), Output()))"
      ]
     },
     "execution_count": 11,
     "metadata": {},
     "output_type": "execute_result"
    }
   ],
   "source": [
    "button = widgets.Button(description='Predict')\n",
    "out = widgets.Output()\n",
    "def on_button_clicked(_):\n",
    "    with out:\n",
    "        clear_output()\n",
    "        try:\n",
    "            img_pred(uploader)\n",
    "            \n",
    "        except:\n",
    "            print('No Image Uploaded/Invalid Image File')\n",
    "button.on_click(on_button_clicked)\n",
    "widgets.VBox([button,out])"
   ]
  },
  {
   "cell_type": "code",
   "execution_count": 12,
   "id": "b592b026",
   "metadata": {},
   "outputs": [],
   "source": [
    "# preprocessing the image\n",
    "def preprocess_image(image_path):\n",
    "    # Load the image\n",
    "    img = cv2.imread(image_path)\n",
    "    \n",
    "    # Resize the image to the input size of the model\n",
    "    img = cv2.resize(img, (150, 150))\n",
    "    \n",
    "    # Normalize the image\n",
    "    img = img / 255.0\n",
    "    \n",
    "    # Expand dimensions to match the input shape of the model\n",
    "    img = np.expand_dims(img, axis=0)\n",
    "    \n",
    "    return img"
   ]
  },
  {
   "cell_type": "code",
   "execution_count": 13,
   "id": "7403bcb5",
   "metadata": {},
   "outputs": [],
   "source": [
    "# prediction function\n",
    "def predict_image(image_path):\n",
    "    # Preprocess the image\n",
    "    img = preprocess_image(image_path)\n",
    "    \n",
    "    # Make prediction\n",
    "    predictions = model.predict(img)\n",
    "    \n",
    "    # Get the class with the highest probability\n",
    "    predicted_class = np.argmax(predictions, axis=1)[0]\n",
    "    \n",
    "    return predicted_class"
   ]
  },
  {
   "cell_type": "code",
   "execution_count": 14,
   "id": "a3d78e48",
   "metadata": {},
   "outputs": [],
   "source": [
    "# mapping class indices to labels\n",
    "class_labels = {0: 'Glioma Tumor', 1: 'No Tumor', 2: 'Meningioma Tumor', 3: 'Pituitary Tumor'}\n",
    "# function to display the prediction result\n",
    "def display_prediction(image_path):\n",
    "    predicted_class = predict_image(image_path)\n",
    "    label = class_labels[predicted_class]\n",
    "    \n",
    "    # Load and display the image\n",
    "    img = Image.open(image_path)\n",
    "    plt.imshow(img)\n",
    "    plt.axis('off')\n",
    "    plt.title(f'Predicted: {label}')\n",
    "    plt.show()\n",
    "\n",
    "# function to handle file upload and prediction\n",
    "def handle_file_upload(change):\n",
    "    if uploader.value:\n",
    "        # Get the uploaded file\n",
    "        uploaded_file = list(uploader.value.values())[0]\n",
    "        # Save the uploaded file to a temporary location\n",
    "        with open('temp_image.jpg', 'wb') as f:\n",
    "            f.write(uploaded_file['content'])\n",
    "        \n",
    "        # Display the prediction\n",
    "        display_prediction('temp_image.jpg')"
   ]
  },
  {
   "cell_type": "code",
   "execution_count": 15,
   "id": "8157e42d",
   "metadata": {},
   "outputs": [
    {
     "data": {
      "application/vnd.jupyter.widget-view+json": {
       "model_id": "87b517af38c7495fafc08299d626c7ec",
       "version_major": 2,
       "version_minor": 0
      },
      "text/plain": [
       "FileUpload(value=(), accept='.jpg,.jpeg,.png', description='Upload')"
      ]
     },
     "metadata": {},
     "output_type": "display_data"
    },
    {
     "ename": "AttributeError",
     "evalue": "'tuple' object has no attribute 'values'",
     "output_type": "error",
     "traceback": [
      "\u001b[31m---------------------------------------------------------------------------\u001b[39m",
      "\u001b[31mAttributeError\u001b[39m                            Traceback (most recent call last)",
      "\u001b[36mFile \u001b[39m\u001b[32mc:\\Users\\krish\\AppData\\Local\\Programs\\Python\\Python312\\Lib\\site-packages\\ipywidgets\\widgets\\widget.py:773\u001b[39m, in \u001b[36mWidget._handle_msg\u001b[39m\u001b[34m(self, msg)\u001b[39m\n\u001b[32m    771\u001b[39m         \u001b[38;5;28;01mif\u001b[39;00m \u001b[33m'\u001b[39m\u001b[33mbuffer_paths\u001b[39m\u001b[33m'\u001b[39m \u001b[38;5;129;01min\u001b[39;00m data:\n\u001b[32m    772\u001b[39m             _put_buffers(state, data[\u001b[33m'\u001b[39m\u001b[33mbuffer_paths\u001b[39m\u001b[33m'\u001b[39m], msg[\u001b[33m'\u001b[39m\u001b[33mbuffers\u001b[39m\u001b[33m'\u001b[39m])\n\u001b[32m--> \u001b[39m\u001b[32m773\u001b[39m         \u001b[38;5;28;43mself\u001b[39;49m\u001b[43m.\u001b[49m\u001b[43mset_state\u001b[49m\u001b[43m(\u001b[49m\u001b[43mstate\u001b[49m\u001b[43m)\u001b[49m\n\u001b[32m    775\u001b[39m \u001b[38;5;66;03m# Handle a state request.\u001b[39;00m\n\u001b[32m    776\u001b[39m \u001b[38;5;28;01melif\u001b[39;00m method == \u001b[33m'\u001b[39m\u001b[33mrequest_state\u001b[39m\u001b[33m'\u001b[39m:\n",
      "\u001b[36mFile \u001b[39m\u001b[32mc:\\Users\\krish\\AppData\\Local\\Programs\\Python\\Python312\\Lib\\site-packages\\ipywidgets\\widgets\\widget.py:650\u001b[39m, in \u001b[36mWidget.set_state\u001b[39m\u001b[34m(self, sync_data)\u001b[39m\n\u001b[32m    645\u001b[39m         \u001b[38;5;28mself\u001b[39m._send(msg, buffers=echo_buffers)\n\u001b[32m    647\u001b[39m \u001b[38;5;66;03m# The order of these context managers is important. Properties must\u001b[39;00m\n\u001b[32m    648\u001b[39m \u001b[38;5;66;03m# be locked when the hold_trait_notification context manager is\u001b[39;00m\n\u001b[32m    649\u001b[39m \u001b[38;5;66;03m# released and notifications are fired.\u001b[39;00m\n\u001b[32m--> \u001b[39m\u001b[32m650\u001b[39m \u001b[43m\u001b[49m\u001b[38;5;28;43;01mwith\u001b[39;49;00m\u001b[43m \u001b[49m\u001b[38;5;28;43mself\u001b[39;49m\u001b[43m.\u001b[49m\u001b[43m_lock_property\u001b[49m\u001b[43m(\u001b[49m\u001b[43m*\u001b[49m\u001b[43m*\u001b[49m\u001b[43msync_data\u001b[49m\u001b[43m)\u001b[49m\u001b[43m,\u001b[49m\u001b[43m \u001b[49m\u001b[38;5;28;43mself\u001b[39;49m\u001b[43m.\u001b[49m\u001b[43mhold_trait_notifications\u001b[49m\u001b[43m(\u001b[49m\u001b[43m)\u001b[49m\u001b[43m:\u001b[49m\n\u001b[32m    651\u001b[39m \u001b[43m    \u001b[49m\u001b[38;5;28;43;01mfor\u001b[39;49;00m\u001b[43m \u001b[49m\u001b[43mname\u001b[49m\u001b[43m \u001b[49m\u001b[38;5;129;43;01min\u001b[39;49;00m\u001b[43m \u001b[49m\u001b[43msync_data\u001b[49m\u001b[43m:\u001b[49m\n\u001b[32m    652\u001b[39m \u001b[43m        \u001b[49m\u001b[38;5;28;43;01mif\u001b[39;49;00m\u001b[43m \u001b[49m\u001b[43mname\u001b[49m\u001b[43m \u001b[49m\u001b[38;5;129;43;01min\u001b[39;49;00m\u001b[43m \u001b[49m\u001b[38;5;28;43mself\u001b[39;49m\u001b[43m.\u001b[49m\u001b[43mkeys\u001b[49m\u001b[43m:\u001b[49m\n",
      "\u001b[36mFile \u001b[39m\u001b[32mc:\\Users\\krish\\AppData\\Local\\Programs\\Python\\Python312\\Lib\\contextlib.py:144\u001b[39m, in \u001b[36m_GeneratorContextManager.__exit__\u001b[39m\u001b[34m(self, typ, value, traceback)\u001b[39m\n\u001b[32m    142\u001b[39m \u001b[38;5;28;01mif\u001b[39;00m typ \u001b[38;5;129;01mis\u001b[39;00m \u001b[38;5;28;01mNone\u001b[39;00m:\n\u001b[32m    143\u001b[39m     \u001b[38;5;28;01mtry\u001b[39;00m:\n\u001b[32m--> \u001b[39m\u001b[32m144\u001b[39m         \u001b[38;5;28;43mnext\u001b[39;49m\u001b[43m(\u001b[49m\u001b[38;5;28;43mself\u001b[39;49m\u001b[43m.\u001b[49m\u001b[43mgen\u001b[49m\u001b[43m)\u001b[49m\n\u001b[32m    145\u001b[39m     \u001b[38;5;28;01mexcept\u001b[39;00m \u001b[38;5;167;01mStopIteration\u001b[39;00m:\n\u001b[32m    146\u001b[39m         \u001b[38;5;28;01mreturn\u001b[39;00m \u001b[38;5;28;01mFalse\u001b[39;00m\n",
      "\u001b[36mFile \u001b[39m\u001b[32m~\\AppData\\Roaming\\Python\\Python312\\site-packages\\traitlets\\traitlets.py:1510\u001b[39m, in \u001b[36mHasTraits.hold_trait_notifications\u001b[39m\u001b[34m(self)\u001b[39m\n\u001b[32m   1508\u001b[39m \u001b[38;5;28;01mfor\u001b[39;00m changes \u001b[38;5;129;01min\u001b[39;00m cache.values():\n\u001b[32m   1509\u001b[39m     \u001b[38;5;28;01mfor\u001b[39;00m change \u001b[38;5;129;01min\u001b[39;00m changes:\n\u001b[32m-> \u001b[39m\u001b[32m1510\u001b[39m         \u001b[38;5;28;43mself\u001b[39;49m\u001b[43m.\u001b[49m\u001b[43mnotify_change\u001b[49m\u001b[43m(\u001b[49m\u001b[43mchange\u001b[49m\u001b[43m)\u001b[49m\n",
      "\u001b[36mFile \u001b[39m\u001b[32mc:\\Users\\krish\\AppData\\Local\\Programs\\Python\\Python312\\Lib\\site-packages\\ipywidgets\\widgets\\widget.py:701\u001b[39m, in \u001b[36mWidget.notify_change\u001b[39m\u001b[34m(self, change)\u001b[39m\n\u001b[32m    698\u001b[39m     \u001b[38;5;28;01mif\u001b[39;00m name \u001b[38;5;129;01min\u001b[39;00m \u001b[38;5;28mself\u001b[39m.keys \u001b[38;5;129;01mand\u001b[39;00m \u001b[38;5;28mself\u001b[39m._should_send_property(name, \u001b[38;5;28mgetattr\u001b[39m(\u001b[38;5;28mself\u001b[39m, name)):\n\u001b[32m    699\u001b[39m         \u001b[38;5;66;03m# Send new state to front-end\u001b[39;00m\n\u001b[32m    700\u001b[39m         \u001b[38;5;28mself\u001b[39m.send_state(key=name)\n\u001b[32m--> \u001b[39m\u001b[32m701\u001b[39m \u001b[38;5;28;43msuper\u001b[39;49m\u001b[43m(\u001b[49m\u001b[43m)\u001b[49m\u001b[43m.\u001b[49m\u001b[43mnotify_change\u001b[49m\u001b[43m(\u001b[49m\u001b[43mchange\u001b[49m\u001b[43m)\u001b[49m\n",
      "\u001b[36mFile \u001b[39m\u001b[32m~\\AppData\\Roaming\\Python\\Python312\\site-packages\\traitlets\\traitlets.py:1525\u001b[39m, in \u001b[36mHasTraits.notify_change\u001b[39m\u001b[34m(self, change)\u001b[39m\n\u001b[32m   1523\u001b[39m \u001b[38;5;28;01mdef\u001b[39;00m\u001b[38;5;250m \u001b[39m\u001b[34mnotify_change\u001b[39m(\u001b[38;5;28mself\u001b[39m, change: Bunch) -> \u001b[38;5;28;01mNone\u001b[39;00m:\n\u001b[32m   1524\u001b[39m \u001b[38;5;250m    \u001b[39m\u001b[33;03m\"\"\"Notify observers of a change event\"\"\"\u001b[39;00m\n\u001b[32m-> \u001b[39m\u001b[32m1525\u001b[39m     \u001b[38;5;28;01mreturn\u001b[39;00m \u001b[38;5;28;43mself\u001b[39;49m\u001b[43m.\u001b[49m\u001b[43m_notify_observers\u001b[49m\u001b[43m(\u001b[49m\u001b[43mchange\u001b[49m\u001b[43m)\u001b[49m\n",
      "\u001b[36mFile \u001b[39m\u001b[32m~\\AppData\\Roaming\\Python\\Python312\\site-packages\\traitlets\\traitlets.py:1568\u001b[39m, in \u001b[36mHasTraits._notify_observers\u001b[39m\u001b[34m(self, event)\u001b[39m\n\u001b[32m   1565\u001b[39m \u001b[38;5;28;01melif\u001b[39;00m \u001b[38;5;28misinstance\u001b[39m(c, EventHandler) \u001b[38;5;129;01mand\u001b[39;00m c.name \u001b[38;5;129;01mis\u001b[39;00m \u001b[38;5;129;01mnot\u001b[39;00m \u001b[38;5;28;01mNone\u001b[39;00m:\n\u001b[32m   1566\u001b[39m     c = \u001b[38;5;28mgetattr\u001b[39m(\u001b[38;5;28mself\u001b[39m, c.name)\n\u001b[32m-> \u001b[39m\u001b[32m1568\u001b[39m \u001b[43mc\u001b[49m\u001b[43m(\u001b[49m\u001b[43mevent\u001b[49m\u001b[43m)\u001b[49m\n",
      "\u001b[36mCell\u001b[39m\u001b[36m \u001b[39m\u001b[32mIn[14]\u001b[39m\u001b[32m, line 19\u001b[39m, in \u001b[36mhandle_file_upload\u001b[39m\u001b[34m(change)\u001b[39m\n\u001b[32m     16\u001b[39m \u001b[38;5;28;01mdef\u001b[39;00m\u001b[38;5;250m \u001b[39m\u001b[34mhandle_file_upload\u001b[39m(change):\n\u001b[32m     17\u001b[39m     \u001b[38;5;28;01mif\u001b[39;00m uploader.value:\n\u001b[32m     18\u001b[39m         \u001b[38;5;66;03m# Get the uploaded file\u001b[39;00m\n\u001b[32m---> \u001b[39m\u001b[32m19\u001b[39m         uploaded_file = \u001b[38;5;28mlist\u001b[39m(\u001b[43muploader\u001b[49m\u001b[43m.\u001b[49m\u001b[43mvalue\u001b[49m\u001b[43m.\u001b[49m\u001b[43mvalues\u001b[49m())[\u001b[32m0\u001b[39m]\n\u001b[32m     20\u001b[39m         \u001b[38;5;66;03m# Save the uploaded file to a temporary location\u001b[39;00m\n\u001b[32m     21\u001b[39m         \u001b[38;5;28;01mwith\u001b[39;00m \u001b[38;5;28mopen\u001b[39m(\u001b[33m'\u001b[39m\u001b[33mtemp_image.jpg\u001b[39m\u001b[33m'\u001b[39m, \u001b[33m'\u001b[39m\u001b[33mwb\u001b[39m\u001b[33m'\u001b[39m) \u001b[38;5;28;01mas\u001b[39;00m f:\n",
      "\u001b[31mAttributeError\u001b[39m: 'tuple' object has no attribute 'values'"
     ]
    }
   ],
   "source": [
    "# filterwarnings('ignore')\n",
    "uploader = widgets.FileUpload(accept='.jpg,.jpeg,.png', multiple=False)\n",
    "uploader.observe(handle_file_upload, names='value')\n",
    "display(uploader)"
   ]
  },
  {
   "cell_type": "code",
   "execution_count": null,
   "id": "b5244818",
   "metadata": {},
   "outputs": [],
   "source": []
  }
 ],
 "metadata": {
  "kernelspec": {
   "display_name": "Python 3",
   "language": "python",
   "name": "python3"
  },
  "language_info": {
   "codemirror_mode": {
    "name": "ipython",
    "version": 3
   },
   "file_extension": ".py",
   "mimetype": "text/x-python",
   "name": "python",
   "nbconvert_exporter": "python",
   "pygments_lexer": "ipython3",
   "version": "3.12.9"
  }
 },
 "nbformat": 4,
 "nbformat_minor": 5
}
